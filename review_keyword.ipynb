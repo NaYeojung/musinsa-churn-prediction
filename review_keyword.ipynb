{
 "cells": [
  {
   "cell_type": "code",
   "execution_count": 169,
   "id": "01b2e0d2-6219-48c1-b03b-9a30145e8975",
   "metadata": {},
   "outputs": [
    {
     "name": "stderr",
     "output_type": "stream",
     "text": [
      "C:\\Users\\duwjd\\AppData\\Local\\Temp\\ipykernel_2404\\1360471411.py:1: DtypeWarning: Columns (4) have mixed types. Specify dtype option on import or set low_memory=False.\n",
      "  df=pd.read_csv('crawl_review_2023.csv',encoding='utf-8', index_col='Unnamed: 0')\n"
     ]
    },
    {
     "data": {
      "text/html": [
       "<div>\n",
       "<style scoped>\n",
       "    .dataframe tbody tr th:only-of-type {\n",
       "        vertical-align: middle;\n",
       "    }\n",
       "\n",
       "    .dataframe tbody tr th {\n",
       "        vertical-align: top;\n",
       "    }\n",
       "\n",
       "    .dataframe thead th {\n",
       "        text-align: right;\n",
       "    }\n",
       "</style>\n",
       "<table border=\"1\" class=\"dataframe\">\n",
       "  <thead>\n",
       "    <tr style=\"text-align: right;\">\n",
       "      <th></th>\n",
       "      <th>Product Name</th>\n",
       "      <th>Review Text</th>\n",
       "    </tr>\n",
       "  </thead>\n",
       "  <tbody>\n",
       "    <tr>\n",
       "      <th>299262</th>\n",
       "      <td>핀 턱 레귤러 핏 데님 팬츠 [워시드 블랙]</td>\n",
       "      <td>깔끔한 블랙이라 손이 자주갑니다 굿입니다요오</td>\n",
       "    </tr>\n",
       "    <tr>\n",
       "      <th>299273</th>\n",
       "      <td>플리츠 와이드 밴딩 팬츠 [블랙]</td>\n",
       "      <td>루즈핏으로 연출해서 잘 입고 다녔습니다통풍은 잘 안되지만 옷감 자체가 두꺼운편이 아...</td>\n",
       "    </tr>\n",
       "    <tr>\n",
       "      <th>299275</th>\n",
       "      <td>쿨링 조거 팬츠 [블랙]</td>\n",
       "      <td>재질 시원하고 핏도 좋고 막 입기 좋습니다 또 사고싶네용</td>\n",
       "    </tr>\n",
       "    <tr>\n",
       "      <th>299283</th>\n",
       "      <td>스트레이트 데님 팬츠 [라이트 인디고]</td>\n",
       "      <td>재질좋고 핏도 과하지않고맘에들어요잘입을께요</td>\n",
       "    </tr>\n",
       "    <tr>\n",
       "      <th>299299</th>\n",
       "      <td>린넨 라이크 와이드 데님 팬츠 [라이트 인디고]</td>\n",
       "      <td>얇고 편하고 좋은데.. 밑위랑 엉덩이 부분 사이즈가 좀 딱맞아여 저 기준.. 팽팽해...</td>\n",
       "    </tr>\n",
       "    <tr>\n",
       "      <th>...</th>\n",
       "      <td>...</td>\n",
       "      <td>...</td>\n",
       "    </tr>\n",
       "    <tr>\n",
       "      <th>299921</th>\n",
       "      <td>스트레이트 데님 팬츠 [라이트 인디고]</td>\n",
       "      <td>색감이 이쁩니다. 세일할 때 샀는데 매우 만족합니다.</td>\n",
       "    </tr>\n",
       "    <tr>\n",
       "      <th>299923</th>\n",
       "      <td>코튼 린넨 투 턱 와이드 팬츠 [건메탈]</td>\n",
       "      <td>다른바지 27입는데 이건 허리 29가 딱 맞네요 좀 넉넉하게 구매하는게 좋을것같습니다.</td>\n",
       "    </tr>\n",
       "    <tr>\n",
       "      <th>299925</th>\n",
       "      <td>레귤러 핏 데님 팬츠 [크림]</td>\n",
       "      <td>가성비 좋은 화이트진이에요 핏 좋고 이쁩니당 잘 입고 있어요</td>\n",
       "    </tr>\n",
       "    <tr>\n",
       "      <th>299935</th>\n",
       "      <td>레귤러 핏 코듀로이 팬츠 [베이지]</td>\n",
       "      <td>바지통이 넉넉한편이고 허리는 살짝 타이트한듯? 스타일은 맘에 들어서 가을 겨울용으로...</td>\n",
       "    </tr>\n",
       "    <tr>\n",
       "      <th>299942</th>\n",
       "      <td>레플리카 퍼티그 팬츠 [카키]</td>\n",
       "      <td>32사려다가 재입고까지 못기다리고 그냥 31질렀는데 사이즈 딱 좋습니다 32샀었더라...</td>\n",
       "    </tr>\n",
       "  </tbody>\n",
       "</table>\n",
       "<p>100 rows × 2 columns</p>\n",
       "</div>"
      ],
      "text/plain": [
       "                      Product Name  \\\n",
       "299262    핀 턱 레귤러 핏 데님 팬츠 [워시드 블랙]   \n",
       "299273          플리츠 와이드 밴딩 팬츠 [블랙]   \n",
       "299275               쿨링 조거 팬츠 [블랙]   \n",
       "299283       스트레이트 데님 팬츠 [라이트 인디고]   \n",
       "299299  린넨 라이크 와이드 데님 팬츠 [라이트 인디고]   \n",
       "...                            ...   \n",
       "299921       스트레이트 데님 팬츠 [라이트 인디고]   \n",
       "299923      코튼 린넨 투 턱 와이드 팬츠 [건메탈]   \n",
       "299925            레귤러 핏 데님 팬츠 [크림]   \n",
       "299935         레귤러 핏 코듀로이 팬츠 [베이지]   \n",
       "299942            레플리카 퍼티그 팬츠 [카키]   \n",
       "\n",
       "                                              Review Text  \n",
       "299262                           깔끔한 블랙이라 손이 자주갑니다 굿입니다요오  \n",
       "299273  루즈핏으로 연출해서 잘 입고 다녔습니다통풍은 잘 안되지만 옷감 자체가 두꺼운편이 아...  \n",
       "299275                    재질 시원하고 핏도 좋고 막 입기 좋습니다 또 사고싶네용  \n",
       "299283                            재질좋고 핏도 과하지않고맘에들어요잘입을께요  \n",
       "299299  얇고 편하고 좋은데.. 밑위랑 엉덩이 부분 사이즈가 좀 딱맞아여 저 기준.. 팽팽해...  \n",
       "...                                                   ...  \n",
       "299921                      색감이 이쁩니다. 세일할 때 샀는데 매우 만족합니다.  \n",
       "299923   다른바지 27입는데 이건 허리 29가 딱 맞네요 좀 넉넉하게 구매하는게 좋을것같습니다.  \n",
       "299925                  가성비 좋은 화이트진이에요 핏 좋고 이쁩니당 잘 입고 있어요  \n",
       "299935  바지통이 넉넉한편이고 허리는 살짝 타이트한듯? 스타일은 맘에 들어서 가을 겨울용으로...  \n",
       "299942  32사려다가 재입고까지 못기다리고 그냥 31질렀는데 사이즈 딱 좋습니다 32샀었더라...  \n",
       "\n",
       "[100 rows x 2 columns]"
      ]
     },
     "execution_count": 169,
     "metadata": {},
     "output_type": "execute_result"
    }
   ],
   "source": [
    "df=pd.read_csv('crawl_review_2023.csv',encoding='utf-8', index_col='Unnamed: 0')\n",
    "df=df[df['Product Name'].str.contains('팬츠', na=False)].iloc[:,[2,6]].tail(100)\n",
    "df"
   ]
  },
  {
   "cell_type": "code",
   "execution_count": 257,
   "id": "bee4ce0c-5ad8-4150-9d32-0aae61498fbc",
   "metadata": {},
   "outputs": [
    {
     "name": "stderr",
     "output_type": "stream",
     "text": [
      "100it [00:00, 349.38it/s]\n"
     ]
    },
    {
     "data": {
      "text/plain": [
       "299262                                         깔끔,블랙,손,굿,요오\n",
       "299273    핏,연출,통풍,옷감,두꺼운다,와이드,핏,덥다,없다,활동,최고,플리츠,팬츠,세일,사이...\n",
       "299275                                      재질,시원,핏,좋다,막,좋다\n",
       "299283                                        재질,좋다,핏,과하다,맘\n",
       "299299                   얇다,편하다,좋다,밑위,엉덩이,사이즈,기준,팽팽,해지,느낌,살\n",
       "                                ...                        \n",
       "299921                                           색감,세일,때,만족\n",
       "299923                                    바지,허리,넉넉,구매,좋다,같다\n",
       "299925                                       가성비,좋다,진이,핏,좋다\n",
       "299935                          바지통,넉넉,허리,타이트,스타일,맘,컬러,핏,구매\n",
       "299942              사려,입고,사이즈,좋다,어정쩡,크다,브랜드,바지,때,재질,핏,가격,좋다\n",
       "Name: tokens_ngrams, Length: 100, dtype: object"
      ]
     },
     "execution_count": 257,
     "metadata": {},
     "output_type": "execute_result"
    }
   ],
   "source": [
    "from ekonlpy.sentiment import MPCK\n",
    "from tqdm import tqdm\n",
    "\n",
    "mpck = MPCK()\n",
    "pos_tag = ['NNG', 'NNP', 'VA', 'MM', 'EP', 'EC', 'ETM', 'XPN']\n",
    "df['tokens_ngrams'] = None\n",
    "\n",
    "for idx, row in tqdm(df.iterrows()):\n",
    "    text = df['Review Text'][idx]\n",
    "    tokens = mpck.tokenize(text)\n",
    "    tokens_list = []\n",
    "    \n",
    "    for token in tokens:\n",
    "        word, tag = token.split('/')\n",
    "        if tag in pos_tag:\n",
    "            if tag=='VA' and word[-1]!='다':\n",
    "                word=word+'다'\n",
    "            # elif tag=='VV' and word[-1]!='다':\n",
    "            #     word=word+'다'\n",
    "            tokens_list.append(word)\n",
    "    \n",
    "    ngrams = mpck.ngramize(tokens)\n",
    "    tokens_ngrams = tokens_list + ngrams\n",
    "    df['tokens_ngrams'][idx] = ','.join(tokens_ngrams)\n",
    "\n",
    "df['tokens_ngrams']"
   ]
  },
  {
   "cell_type": "code",
   "execution_count": 259,
   "id": "c35dedf3-07ce-4313-b177-bb757c1b5cf6",
   "metadata": {},
   "outputs": [],
   "source": [
    "from gensim.corpora import Dictionary\n",
    "\n",
    "# Ensure 'tokens_ngrams' is a list of lists where each inner list is a list of tokens\n",
    "df['tokens_ngrams'] = df['tokens_ngrams'].apply(lambda x: x.split(','))\n",
    "\n",
    "# Create a dictionary representation of the documents\n",
    "dictionary = Dictionary(df['tokens_ngrams'])\n",
    "\n",
    "# Filter out extreme values\n",
    "dictionary.filter_extremes(no_below=5, no_above=0.5)\n",
    "\n",
    "# Create a Bag-of-Words (BoW) representation of the documents\n",
    "corpus = [dictionary.doc2bow(review) for review in df['tokens_ngrams']]"
   ]
  },
  {
   "cell_type": "code",
   "execution_count": 261,
   "id": "24855e27-9742-46ef-b94d-562371cc9085",
   "metadata": {},
   "outputs": [],
   "source": [
    "from gensim.models.ldamodel import LdaModel\n",
    "\n",
    "# Set the number of topics\n",
    "num_topics = 10\n",
    "\n",
    "# Train the LDA model\n",
    "lda_model = LdaModel(corpus, num_topics=num_topics, id2word=dictionary, passes=15)"
   ]
  },
  {
   "cell_type": "code",
   "execution_count": 262,
   "id": "0b5adc2c-8774-4fb6-a92d-90aadf831dd2",
   "metadata": {},
   "outputs": [
    {
     "name": "stdout",
     "output_type": "stream",
     "text": [
      "좋다, 색, 옷, 편하다, 이쁘다, 색상, 핏, 허리, 엉덩이, 사이즈, \n",
      "\n",
      "좋다, 같다, 배송, 팬츠, 사이즈, 색감, 재질, 허리, 빠르다, 깔끔, \n",
      "\n",
      "바지, 핏, 기본, 없다, 팬츠, 좋다, 길다, 때, 크다, 느낌, \n",
      "\n",
      "생각, 가격, 추천, 때, 옷, 배송, 맘, 없다, 핏, 허리, \n",
      "\n",
      "구매, 핏, 좋다, 적당, 두께, 만족, 기장, 색상, 허리, 바지, \n",
      "\n",
      "핏, 있다, 같다, 이쁘다, 색감, 사이즈, 배송, 크다, 두께, 허리, \n",
      "\n",
      "좋다, 느낌, 크다, 핏, 기장, 얇다, 생각, 편하다, 사이즈, 재질, \n",
      "\n",
      "같다, 깔끔, 예쁘다, 핏, 색감, 색, 기장, 팬츠, 가격, 기본, \n",
      "\n",
      "때, 만족, 색감, 없다, 사이즈, 엉덩이, 가격, 핏, 얇다, 크다, \n",
      "\n",
      "좋다, 재질, 생각, 핏, 같다, 길이, 맘, 옷, 팬츠, 마음, \n",
      "\n"
     ]
    }
   ],
   "source": [
    "import re\n",
    "\n",
    "pattern = r'\\\"(.*?)\\\"'\n",
    "\n",
    "# Print the top words in each topic\n",
    "for idx, topic in lda_model.print_topics(-1):\n",
    "    # Find all matches\n",
    "    matches = re.findall(pattern, topic)\n",
    "    \n",
    "    # Print each match\n",
    "    for match in matches:\n",
    "        print(match, end=\", \")\n",
    "    print(\"\\n\")"
   ]
  },
  {
   "cell_type": "code",
   "execution_count": 265,
   "id": "632e34db-3798-4763-99ce-2645a2eba665",
   "metadata": {},
   "outputs": [
    {
     "name": "stdout",
     "output_type": "stream",
     "text": [
      "합리적인 가격애 결제한 것 같아 너무 좋아요ㅠ글고 배송도 빠르고요\n",
      "\n",
      "\n",
      "\n",
      "\n",
      "\n",
      "\n",
      "\n",
      "\n",
      "\n"
     ]
    }
   ],
   "source": [
    "# Get the dominant topic for each review\n",
    "def get_dominant_topic(lda_model, corpus):\n",
    "    dominant_topics = []\n",
    "    for bow in corpus:\n",
    "        topics = lda_model.get_document_topics(bow)\n",
    "        dominant_topic = max(topics, key=lambda x: x[1])[0]\n",
    "        dominant_topics.append(dominant_topic)\n",
    "    return dominant_topics\n",
    "\n",
    "dominant_topics = get_dominant_topic(lda_model, corpus)\n",
    "\n",
    "# Summarize reviews based on dominant topics\n",
    "def summarize_review(review, topic, lda_model):\n",
    "    sentences = re.split(r'(?<=[^가-힣0-9.])\\s+', review)  # Sentence tokenizer for Korean\n",
    "    topic_words = [word for word, prob in lda_model.show_topic(topic, topn=10)]\n",
    "    summary_sentences = [sentence for sentence in sentences if any(word in sentence for word in topic_words)]\n",
    "    return ' '.join(summary_sentences)\n",
    "\n",
    "summaries = [summarize_review(reviews[i], dominant_topics[i], lda_model) for i in range(len(reviews))]\n",
    "\n",
    "# Print summaries\n",
    "for summary in summaries:\n",
    "    print(summary)"
   ]
  },
  {
   "cell_type": "code",
   "execution_count": null,
   "id": "848ea19c-a8ad-4aeb-a140-9c1f01f989d9",
   "metadata": {},
   "outputs": [],
   "source": []
  }
 ],
 "metadata": {
  "kernelspec": {
   "display_name": "Python 3 (ipykernel)",
   "language": "python",
   "name": "python3"
  },
  "language_info": {
   "codemirror_mode": {
    "name": "ipython",
    "version": 3
   },
   "file_extension": ".py",
   "mimetype": "text/x-python",
   "name": "python",
   "nbconvert_exporter": "python",
   "pygments_lexer": "ipython3",
   "version": "3.11.7"
  }
 },
 "nbformat": 4,
 "nbformat_minor": 5
}
