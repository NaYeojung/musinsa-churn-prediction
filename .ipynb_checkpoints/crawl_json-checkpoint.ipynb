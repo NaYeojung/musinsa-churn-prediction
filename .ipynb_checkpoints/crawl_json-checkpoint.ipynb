{
 "cells": [
  {
   "cell_type": "code",
   "execution_count": 2,
   "metadata": {},
   "outputs": [],
   "source": [
    "import requests\n",
    "from bs4 import BeautifulSoup\n",
    "import json\n",
    "from tqdm import tqdm\n",
    "import random\n",
    "import time\n"
   ]
  },
  {
   "cell_type": "code",
   "execution_count": 5,
   "metadata": {},
   "outputs": [
    {
     "name": "stderr",
     "output_type": "stream",
     "text": [
      "100%|██████████| 1/1 [00:01<00:00,  1.45s/it]"
     ]
    },
    {
     "name": "stdout",
     "output_type": "stream",
     "text": [
      "크롤링 완료! 총 20개의 리뷰를 저장했습니다.\n"
     ]
    },
    {
     "name": "stderr",
     "output_type": "stream",
     "text": [
      "\n"
     ]
    }
   ],
   "source": [
    "USER_AGENTS = [\n",
    "    'Mozilla/5.0 (Windows NT 10.0; Win64; x64) AppleWebKit/537.36 (KHTML, like Gecko) Chrome/91.0.4472.124 Safari/537.36',\n",
    "    'Mozilla/5.0 (Macintosh; Intel Mac OS X 10_15_7) AppleWebKit/537.36 (KHTML, like Gecko) Chrome/91.0.4472.114 Safari/537.36',\n",
    "    'Mozilla/5.0 (X11; Ubuntu; Linux x86_64; rv:89.0) Gecko/20100101 Firefox/89.0',\n",
    "]\n",
    "\n",
    "####################################################################################\n",
    "\n",
    "year = 2024\n",
    "month = 1\n",
    "day = 1  #   \"\"로 비워도됨\n",
    "review_type = 'goods'  # photo, goods\n",
    "max_pages = 1\n",
    "\n",
    "####################################################################################\n",
    "\n",
    "def get_reviews(year, month, day, review_type, max_pages):\n",
    "    reviews = []\n",
    "    base_url = \"https://www.musinsa.com/goods/reviews/lists\"\n",
    "    \n",
    "    for page in tqdm(range(1, max_pages + 1)):\n",
    "        params = {\n",
    "            'searchYear': year,\n",
    "            'searchMonth': month,\n",
    "            'searchDay': day,  \n",
    "            'type': review_type,\n",
    "            'page': page,\n",
    "            'shop_domain': 'https://www.musinsa.com',\n",
    "            'sort': 'UP_CNT_DESC'\n",
    "        }\n",
    "        \n",
    "        headers = {\n",
    "            'User-Agent': random.choice(USER_AGENTS)\n",
    "        }\n",
    "        \n",
    "        response = requests.get(base_url, params=params, headers=headers)\n",
    "        if response.status_code != 200:\n",
    "            print(f\"Failed to retrieve page {page}\")\n",
    "            break\n",
    "        \n",
    "        soup = BeautifulSoup(response.text, 'html.parser')\n",
    "        review_list = soup.select(\"#reviewContentWrap > div\")\n",
    "        \n",
    "        if not review_list:\n",
    "            print(f\"No reviews found on page {page}, stopping...\")\n",
    "            break\n",
    "        \n",
    "        for review in review_list:\n",
    "            hash_id_element = review.select_one('div.review-profile > a')\n",
    "            username_element = review.select_one('p.review-profile__name')\n",
    "            \n",
    "            hash_id = ''\n",
    "            if hash_id_element:\n",
    "                href = hash_id_element.get('href', '')\n",
    "                if 'hash_id=' in href:\n",
    "                    hash_id = href.split('hash_id=')[1].split('&')[0]\n",
    "                    \n",
    "            username = username_element.text.strip() if username_element else ''\n",
    "            \n",
    "            reviews.append({\n",
    "                'hash_id': hash_id,\n",
    "                'username': username\n",
    "            })\n",
    "        \n",
    "        # time.sleep(random.uniform(1, 3))\n",
    "    \n",
    "    return reviews\n",
    "\n",
    "# 리뷰 크롤링\n",
    "reviews = get_reviews(year, month, day, review_type, max_pages)\n",
    "\n",
    "# JSON 파일로 저장\n",
    "with open(f'reviews/reviews_{year}_{month}_{day}_{review_type}.json', 'w', encoding='utf-8') as f:\n",
    "    json.dump(reviews, f, ensure_ascii=False, indent=4)\n",
    "\n",
    "print(f\"크롤링 완료! 총 {len(reviews)}개의 리뷰를 저장했습니다.\")"
   ]
  }
 ],
 "metadata": {
  "kernelspec": {
   "display_name": "Python 3 (ipykernel)",
   "language": "python",
   "name": "python3"
  },
  "language_info": {
   "codemirror_mode": {
    "name": "ipython",
    "version": 3
   },
   "file_extension": ".py",
   "mimetype": "text/x-python",
   "name": "python",
   "nbconvert_exporter": "python",
   "pygments_lexer": "ipython3",
   "version": "3.11.7"
  }
 },
 "nbformat": 4,
 "nbformat_minor": 4
}
